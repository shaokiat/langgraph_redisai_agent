{
 "cells": [
  {
   "cell_type": "code",
   "execution_count": null,
   "id": "c7026f04",
   "metadata": {},
   "outputs": [],
   "source": [
    "import os\n",
    "import numpy as np\n",
    "import redis\n",
    "from openai import OpenAI\n",
    "from dotenv import load_dotenv\n",
    "\n",
    "# Load environment variables\n",
    "load_dotenv()\n",
    "\n",
    "# Connect to Redis\n",
    "redis_client = redis.Redis(host='localhost', port=6379, db=0)"
   ]
  },
  {
   "cell_type": "code",
   "execution_count": null,
   "id": "50091c26",
   "metadata": {},
   "outputs": [],
   "source": [
    "info = redis_client.execute_command(\"FT.INFO\", \"rag_docs\")\n",
    "info_dict = dict(zip(info[::2], info[1::2]))\n",
    "print(\"Number of vectors:\", info_dict.get(b'num_docs'))"
   ]
  },
  {
   "cell_type": "code",
   "execution_count": null,
   "id": "25716b47",
   "metadata": {},
   "outputs": [],
   "source": [
    "def embed_text(text: str) -> list:\n",
    "    \"\"\"Get embedding for text using OpenAI API.\"\"\"\n",
    "    client = OpenAI(api_key=os.getenv(\"OPENAI_API_KEY\"))\n",
    "    resp = client.embeddings.create(input=[text], model=\"text-embedding-3-small\")\n",
    "    return np.array(resp.data[0].embedding, dtype=np.float32)\n",
    "\n",
    "\n",
    "def query_vector_db(query, k=3, index_name=\"rag_docs\"):\n",
    "    embedding = embed_text(query)\n",
    "    query_vec = embedding.tobytes()\n",
    "    result = redis_client.execute_command(\n",
    "        \"FT.SEARCH\", index_name,\n",
    "        f\"*=>[KNN {k} @embedding $vec as score]\",\n",
    "        \"PARAMS\", \"2\", \"vec\", query_vec,\n",
    "        \"SORTBY\", \"score\", \"ASC\",\n",
    "        \"RETURN\", \"2\", \"text\", \"score\",\n",
    "        \"DIALECT\", \"2\",\n",
    "        \"LIMIT\", \"0\", str(k))\n",
    "    docs = []\n",
    "    for i in range(1, len(result), 2):\n",
    "        doc = result[i+1]\n",
    "        docs.append({\"score\": doc[1].decode(), \"text\": doc[3].decode()})\n",
    "    return docs"
   ]
  },
  {
   "cell_type": "code",
   "execution_count": null,
   "id": "0dda9888",
   "metadata": {},
   "outputs": [],
   "source": [
    "query = \"How do I set a key with an expiry in Redis?\"\n",
    "results = query_vector_db(query, k=3)\n",
    "for i, doc in enumerate(results):\n",
    "    print(f\"Result {i}:\")\n",
    "    print(f\"Score: {doc['score']}\")\n",
    "    print(doc['text'][:50])\n",
    "    print(\"-\" * 40)\n",
    "    "
   ]
  },
  {
   "cell_type": "code",
   "execution_count": null,
   "id": "5f48a579",
   "metadata": {},
   "outputs": [],
   "source": [
    "result = redis_client.execute_command('FT.SEARCH', 'rag_docs', '*', 'RETURN', '1', 'text', 'LIMIT', '0', '5')\n",
    "for i in range(2, len(result), 2):\n",
    "    doc = result[i+1]\n",
    "    print(doc[1])\n",
    "    print(\"=\"*60)"
   ]
  }
 ],
 "metadata": {
  "kernelspec": {
   "display_name": ".venv",
   "language": "python",
   "name": "python3"
  },
  "language_info": {
   "codemirror_mode": {
    "name": "ipython",
    "version": 3
   },
   "file_extension": ".py",
   "mimetype": "text/x-python",
   "name": "python",
   "nbconvert_exporter": "python",
   "pygments_lexer": "ipython3",
   "version": "3.12.1"
  }
 },
 "nbformat": 4,
 "nbformat_minor": 5
}
